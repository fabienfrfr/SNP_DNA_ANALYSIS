{
 "cells": [
  {
   "cell_type": "markdown",
   "id": "701f6528",
   "metadata": {},
   "source": [
    "# Analyse ADN MyHeritage\n",
    "\n",
    "---\n",
    "\n",
    "**Site d'analyse :**\n",
    "\n",
    "- MyHeritage\n",
    "\n",
    "- MyTrueAncestry\n",
    "\n",
    "rsid = ID SNP de référence (indique le « nom » du premier et du dernier SNP du segment)\n",
    "\n",
    "Les SNP (pour single nucleotide polymorphism), prononcés Snips, correspondent à des variations mineures du génome au sein d'une population. Un seul nucléotide, le composant de base de l'ADN, est modifié.\n",
    "\n",
    "Voir les Étude d'association pangénomique\n",
    "\n",
    "https://towardsdatascience.com/know-thyself-using-data-science-to-explore-your-own-genome-ec726303f16c\n",
    "\n",
    "https://towardsdatascience.com/machine-learning-in-bioinformatics-genome-geography-d1b1dbbfb4c2"
   ]
  },
  {
   "cell_type": "code",
   "execution_count": 3,
   "id": "2187191d",
   "metadata": {},
   "outputs": [],
   "source": [
    "# data visualization\n",
    "import seaborn as sns\n",
    "sns.set_style('darkgrid')\n",
    "sns.color_palette('Spectral')\n",
    "import matplotlib.pyplot as plt\n",
    "\n",
    "# data analysis\n",
    "import numpy as np\n",
    "import requests\n",
    "import pandas as pd\n",
    "import re\n",
    "\n",
    "# using web browser in python\n",
    "from selenium import webdriver\n",
    "from selenium.webdriver.support.ui import WebDriverWait"
   ]
  },
  {
   "cell_type": "markdown",
   "id": "efa67389",
   "metadata": {},
   "source": [
    "## Data collection"
   ]
  },
  {
   "cell_type": "code",
   "execution_count": 26,
   "id": "b090769d",
   "metadata": {
    "scrolled": true
   },
   "outputs": [
    {
     "data": {
      "text/html": [
       "<div>\n",
       "<style scoped>\n",
       "    .dataframe tbody tr th:only-of-type {\n",
       "        vertical-align: middle;\n",
       "    }\n",
       "\n",
       "    .dataframe tbody tr th {\n",
       "        vertical-align: top;\n",
       "    }\n",
       "\n",
       "    .dataframe thead th {\n",
       "        text-align: right;\n",
       "    }\n",
       "</style>\n",
       "<table border=\"1\" class=\"dataframe\">\n",
       "  <thead>\n",
       "    <tr style=\"text-align: right;\">\n",
       "      <th></th>\n",
       "      <th>RSID</th>\n",
       "      <th>CHROMOSOME</th>\n",
       "      <th>POSITION</th>\n",
       "      <th>RESULT</th>\n",
       "    </tr>\n",
       "  </thead>\n",
       "  <tbody>\n",
       "    <tr>\n",
       "      <th>0</th>\n",
       "      <td>rs547237130</td>\n",
       "      <td>1</td>\n",
       "      <td>72526</td>\n",
       "      <td>AA</td>\n",
       "    </tr>\n",
       "    <tr>\n",
       "      <th>1</th>\n",
       "      <td>rs562180473</td>\n",
       "      <td>1</td>\n",
       "      <td>565703</td>\n",
       "      <td>AA</td>\n",
       "    </tr>\n",
       "    <tr>\n",
       "      <th>2</th>\n",
       "      <td>rs575203260</td>\n",
       "      <td>1</td>\n",
       "      <td>567693</td>\n",
       "      <td>TT</td>\n",
       "    </tr>\n",
       "    <tr>\n",
       "      <th>3</th>\n",
       "      <td>rs3131972</td>\n",
       "      <td>1</td>\n",
       "      <td>752721</td>\n",
       "      <td>AA</td>\n",
       "    </tr>\n",
       "    <tr>\n",
       "      <th>4</th>\n",
       "      <td>rs200599638</td>\n",
       "      <td>1</td>\n",
       "      <td>752918</td>\n",
       "      <td>GG</td>\n",
       "    </tr>\n",
       "  </tbody>\n",
       "</table>\n",
       "</div>"
      ],
      "text/plain": [
       "          RSID CHROMOSOME  POSITION RESULT\n",
       "0  rs547237130          1     72526     AA\n",
       "1  rs562180473          1    565703     AA\n",
       "2  rs575203260          1    567693     TT\n",
       "3    rs3131972          1    752721     AA\n",
       "4  rs200599638          1    752918     GG"
      ]
     },
     "execution_count": 26,
     "metadata": {},
     "output_type": "execute_result"
    }
   ],
   "source": [
    "data = pd.read_csv('MyHeritage_raw_dna_data.csv', sep=',', dtype={'RSID':'str', 'CHROMOSOME':'object', 'POSITION':'int', 'RESULT':'str'}, comment='#', low_memory=False)\n",
    "df = pd.DataFrame(data) # for Collection and EDA\n",
    "data.head()"
   ]
  },
  {
   "cell_type": "markdown",
   "id": "9e054402",
   "metadata": {},
   "source": [
    "**Description des variables :**\n",
    "\n",
    "(RESULT is Genotype)"
   ]
  },
  {
   "cell_type": "code",
   "execution_count": 51,
   "id": "045df4ba",
   "metadata": {
    "scrolled": true
   },
   "outputs": [
    {
     "data": {
      "text/plain": [
       "RSID          False\n",
       "CHROMOSOME    False\n",
       "POSITION      False\n",
       "RESULT        False\n",
       "dtype: bool"
      ]
     },
     "metadata": {},
     "output_type": "display_data"
    },
    {
     "data": {
      "text/plain": [
       "RSID          609346\n",
       "CHROMOSOME        24\n",
       "POSITION      608314\n",
       "RESULT            14\n",
       "dtype: int64"
      ]
     },
     "metadata": {},
     "output_type": "display_data"
    }
   ],
   "source": [
    "display(df.isna().any(), df.nunique())"
   ]
  },
  {
   "cell_type": "markdown",
   "id": "b35bfed6",
   "metadata": {},
   "source": [
    "**Simplification du dataset :**"
   ]
  },
  {
   "cell_type": "code",
   "execution_count": 24,
   "id": "ecf0a8b8",
   "metadata": {
    "scrolled": true
   },
   "outputs": [
    {
     "data": {
      "text/html": [
       "<div>\n",
       "<style scoped>\n",
       "    .dataframe tbody tr th:only-of-type {\n",
       "        vertical-align: middle;\n",
       "    }\n",
       "\n",
       "    .dataframe tbody tr th {\n",
       "        vertical-align: top;\n",
       "    }\n",
       "\n",
       "    .dataframe thead th {\n",
       "        text-align: right;\n",
       "    }\n",
       "</style>\n",
       "<table border=\"1\" class=\"dataframe\">\n",
       "  <thead>\n",
       "    <tr style=\"text-align: right;\">\n",
       "      <th></th>\n",
       "      <th>RSID</th>\n",
       "      <th>CHROMOSOME</th>\n",
       "      <th>POSITION</th>\n",
       "      <th>RESULT</th>\n",
       "    </tr>\n",
       "  </thead>\n",
       "  <tbody>\n",
       "    <tr>\n",
       "      <th>0</th>\n",
       "      <td>rs547237130</td>\n",
       "      <td>1</td>\n",
       "      <td>72526</td>\n",
       "      <td>AA</td>\n",
       "    </tr>\n",
       "    <tr>\n",
       "      <th>1</th>\n",
       "      <td>rs562180473</td>\n",
       "      <td>1</td>\n",
       "      <td>565703</td>\n",
       "      <td>AA</td>\n",
       "    </tr>\n",
       "    <tr>\n",
       "      <th>2</th>\n",
       "      <td>rs575203260</td>\n",
       "      <td>1</td>\n",
       "      <td>567693</td>\n",
       "      <td>TT</td>\n",
       "    </tr>\n",
       "    <tr>\n",
       "      <th>3</th>\n",
       "      <td>rs3131972</td>\n",
       "      <td>1</td>\n",
       "      <td>752721</td>\n",
       "      <td>AA</td>\n",
       "    </tr>\n",
       "    <tr>\n",
       "      <th>4</th>\n",
       "      <td>rs200599638</td>\n",
       "      <td>1</td>\n",
       "      <td>752918</td>\n",
       "      <td>GG</td>\n",
       "    </tr>\n",
       "  </tbody>\n",
       "</table>\n",
       "</div>"
      ],
      "text/plain": [
       "          RSID  CHROMOSOME  POSITION RESULT\n",
       "0  rs547237130           1     72526     AA\n",
       "1  rs562180473           1    565703     AA\n",
       "2  rs575203260           1    567693     TT\n",
       "3    rs3131972           1    752721     AA\n",
       "4  rs200599638           1    752918     GG"
      ]
     },
     "execution_count": 24,
     "metadata": {},
     "output_type": "execute_result"
    }
   ],
   "source": [
    "# replace X and Y by values (regex using)\n",
    "chromosome_dict = df['CHROMOSOME'].unique()\n",
    "chromosome_dict = dict(zip(list(range(chromosome_dict.size)), chromosome_dict))\n",
    "df['CHROMOSOME'] = df['CHROMOSOME'].apply(lambda x: re.sub(r'X', r'23', x))\n",
    "df['CHROMOSOME'] = df['CHROMOSOME'].apply(lambda x: re.sub(r'Y', r'24', x))\n",
    "df['CHROMOSOME'] = df['CHROMOSOME'].apply(lambda x:int(x))\n",
    "df.head()"
   ]
  },
  {
   "cell_type": "markdown",
   "id": "973df5ff",
   "metadata": {},
   "source": [
    "**Acquisition de la base de donnée SNPedia (https://www.snpedia.com/)** \n",
    "\n",
    "Article interessant : https://www.ncbi.nlm.nih.gov/pmc/articles/PMC3245045/\n",
    "\n",
    "tuto wikitool (https://www.snpedia.com/index.php/Bulk), ne marche pas avec Python3, faire webscrapping avec BeautifulSoup. Voir :\n",
    "\n",
    "- https://stackoverflow.com/questions/70233801/python-scraping-of-wikipedia-category-page\n",
    "- https://stackoverflow.com/questions/62398524/how-can-i-get-an-article-from-wiki-with-a-specific-language-using-python"
   ]
  },
  {
   "cell_type": "code",
   "execution_count": null,
   "id": "a3f6589e",
   "metadata": {},
   "outputs": [],
   "source": [
    "import requests\n",
    "from bs4 import BeautifulSoup\n",
    "\n",
    "nb_snp = 111727\n",
    "snp_list = []\n",
    "# get query request loop\n",
    "URL = \"http://bots.snpedia.com/api.php\"\n",
    "for i in range(int(nb_snp/500)+1) :\n",
    "    if i == 0 :\n",
    "        PARAMS = { \"action\": \"query\",\"cmtitle\": \"Category:Is a snp\", \"cmlimit\": '500' , \"list\": \"categorymembers\",\"format\": \"json\"}\n",
    "    else :\n",
    "        PARAMS = { \"action\": \"query\",\"cmtitle\": \"Category:Is a snp\", 'cmcontinue': lpage, \"cmlimit\": '500' , \"list\": \"categorymembers\",\"format\": \"json\"}\n",
    "    # request\n",
    "    req = requests.get(url=URL, params=PARAMS).json()\n",
    "    if 'continue' in req.keys(): lpage = req['continue']['cmcontinue']\n",
    "    # get list\n",
    "    pages = req['query']['categorymembers']\n",
    "    snp_list += [p['title'] for p in pages]\n",
    "#display(snp_list)"
   ]
  },
  {
   "cell_type": "markdown",
   "id": "f0b925cb",
   "metadata": {},
   "source": [
    "**Correspondance entre la liste et le dataframe (réduction) :**"
   ]
  },
  {
   "cell_type": "code",
   "execution_count": 149,
   "id": "cfc9fa31",
   "metadata": {},
   "outputs": [],
   "source": [
    "snp_series = pd.Series(snp_list,  name=\"RSID\")\n",
    "snp_series = snp_series.apply(lambda x: re.sub(r'R', r'r', x))\n",
    "# new df\n",
    "snp_df = pd.concat([snp_series,pd.Series(range(len(snp_series)), name=\"ID_LIST\")], axis=1)\n",
    "snp_df = snp_df.merge(df, how='inner', on=['RSID'])\n",
    "snp_df.head()\n",
    "# save list of rsid referenced\n",
    "snp_df[['RSID','ID_LIST']].to_csv('rsid_referenced.csv', index=False)"
   ]
  },
  {
   "cell_type": "markdown",
   "id": "1c853bc5",
   "metadata": {},
   "source": [
    "## Data Exploration\n"
   ]
  },
  {
   "cell_type": "code",
   "execution_count": null,
   "id": "cb6c546d",
   "metadata": {},
   "outputs": [],
   "source": []
  },
  {
   "cell_type": "markdown",
   "id": "5c7c89f1",
   "metadata": {},
   "source": [
    "## Data Processing\n"
   ]
  },
  {
   "cell_type": "code",
   "execution_count": null,
   "id": "623a874d",
   "metadata": {},
   "outputs": [],
   "source": []
  }
 ],
 "metadata": {
  "kernelspec": {
   "display_name": "Python 3 (ipykernel)",
   "language": "python",
   "name": "python3"
  },
  "language_info": {
   "codemirror_mode": {
    "name": "ipython",
    "version": 3
   },
   "file_extension": ".py",
   "mimetype": "text/x-python",
   "name": "python",
   "nbconvert_exporter": "python",
   "pygments_lexer": "ipython3",
   "version": "3.10.4"
  }
 },
 "nbformat": 4,
 "nbformat_minor": 5
}
